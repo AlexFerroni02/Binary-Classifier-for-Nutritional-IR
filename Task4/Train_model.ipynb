{
 "nbformat": 4,
 "nbformat_minor": 0,
 "metadata": {
  "colab": {
   "provenance": [],
   "gpuType": "T4"
  },
  "kernelspec": {
   "name": "python3",
   "display_name": "Python 3 (ipykernel)",
   "language": "python"
  },
  "language_info": {
   "name": "python"
  },
  "accelerator": "GPU",
  "widgets": {
   "application/vnd.jupyter.widget-state+json": {
    "57fa45cfae4f4dc5b2f8de2ad02d5f29": {
     "model_module": "@jupyter-widgets/controls",
     "model_name": "HBoxModel",
     "model_module_version": "1.5.0",
     "state": {
      "_dom_classes": [],
      "_model_module": "@jupyter-widgets/controls",
      "_model_module_version": "1.5.0",
      "_model_name": "HBoxModel",
      "_view_count": null,
      "_view_module": "@jupyter-widgets/controls",
      "_view_module_version": "1.5.0",
      "_view_name": "HBoxView",
      "box_style": "",
      "children": [
       "IPY_MODEL_44bf86bc0c4846abbd588178888d31e0",
       "IPY_MODEL_a85fc1cb4e54499f9ccf1116a4cf2d5e",
       "IPY_MODEL_a3a486dc9248497a84a2cc02bad361ef"
      ],
      "layout": "IPY_MODEL_136680ee3d264d6eb265ae6a8575b5dc"
     }
    },
    "44bf86bc0c4846abbd588178888d31e0": {
     "model_module": "@jupyter-widgets/controls",
     "model_name": "HTMLModel",
     "model_module_version": "1.5.0",
     "state": {
      "_dom_classes": [],
      "_model_module": "@jupyter-widgets/controls",
      "_model_module_version": "1.5.0",
      "_model_name": "HTMLModel",
      "_view_count": null,
      "_view_module": "@jupyter-widgets/controls",
      "_view_module_version": "1.5.0",
      "_view_name": "HTMLView",
      "description": "",
      "description_tooltip": null,
      "layout": "IPY_MODEL_3efc3646f62e4291a6e0f7de405ab618",
      "placeholder": "​",
      "style": "IPY_MODEL_87ea26b42f4b473d8c8b89cf93a3d582",
      "value": "Map: 100%"
     }
    },
    "a85fc1cb4e54499f9ccf1116a4cf2d5e": {
     "model_module": "@jupyter-widgets/controls",
     "model_name": "FloatProgressModel",
     "model_module_version": "1.5.0",
     "state": {
      "_dom_classes": [],
      "_model_module": "@jupyter-widgets/controls",
      "_model_module_version": "1.5.0",
      "_model_name": "FloatProgressModel",
      "_view_count": null,
      "_view_module": "@jupyter-widgets/controls",
      "_view_module_version": "1.5.0",
      "_view_name": "ProgressView",
      "bar_style": "success",
      "description": "",
      "description_tooltip": null,
      "layout": "IPY_MODEL_5472120f02b543628bb264f24059d777",
      "max": 916,
      "min": 0,
      "orientation": "horizontal",
      "style": "IPY_MODEL_bcd4794e0c0a46b2b06b92bc0fdd370b",
      "value": 916
     }
    },
    "a3a486dc9248497a84a2cc02bad361ef": {
     "model_module": "@jupyter-widgets/controls",
     "model_name": "HTMLModel",
     "model_module_version": "1.5.0",
     "state": {
      "_dom_classes": [],
      "_model_module": "@jupyter-widgets/controls",
      "_model_module_version": "1.5.0",
      "_model_name": "HTMLModel",
      "_view_count": null,
      "_view_module": "@jupyter-widgets/controls",
      "_view_module_version": "1.5.0",
      "_view_name": "HTMLView",
      "description": "",
      "description_tooltip": null,
      "layout": "IPY_MODEL_a1bb672aa71a41a4b03326f60294ca06",
      "placeholder": "​",
      "style": "IPY_MODEL_933c21e5ee9e4d3d9c5f8e7435ea99ce",
      "value": " 916/916 [00:00&lt;00:00, 1212.32 examples/s]"
     }
    },
    "136680ee3d264d6eb265ae6a8575b5dc": {
     "model_module": "@jupyter-widgets/base",
     "model_name": "LayoutModel",
     "model_module_version": "1.2.0",
     "state": {
      "_model_module": "@jupyter-widgets/base",
      "_model_module_version": "1.2.0",
      "_model_name": "LayoutModel",
      "_view_count": null,
      "_view_module": "@jupyter-widgets/base",
      "_view_module_version": "1.2.0",
      "_view_name": "LayoutView",
      "align_content": null,
      "align_items": null,
      "align_self": null,
      "border": null,
      "bottom": null,
      "display": null,
      "flex": null,
      "flex_flow": null,
      "grid_area": null,
      "grid_auto_columns": null,
      "grid_auto_flow": null,
      "grid_auto_rows": null,
      "grid_column": null,
      "grid_gap": null,
      "grid_row": null,
      "grid_template_areas": null,
      "grid_template_columns": null,
      "grid_template_rows": null,
      "height": null,
      "justify_content": null,
      "justify_items": null,
      "left": null,
      "margin": null,
      "max_height": null,
      "max_width": null,
      "min_height": null,
      "min_width": null,
      "object_fit": null,
      "object_position": null,
      "order": null,
      "overflow": null,
      "overflow_x": null,
      "overflow_y": null,
      "padding": null,
      "right": null,
      "top": null,
      "visibility": null,
      "width": null
     }
    },
    "3efc3646f62e4291a6e0f7de405ab618": {
     "model_module": "@jupyter-widgets/base",
     "model_name": "LayoutModel",
     "model_module_version": "1.2.0",
     "state": {
      "_model_module": "@jupyter-widgets/base",
      "_model_module_version": "1.2.0",
      "_model_name": "LayoutModel",
      "_view_count": null,
      "_view_module": "@jupyter-widgets/base",
      "_view_module_version": "1.2.0",
      "_view_name": "LayoutView",
      "align_content": null,
      "align_items": null,
      "align_self": null,
      "border": null,
      "bottom": null,
      "display": null,
      "flex": null,
      "flex_flow": null,
      "grid_area": null,
      "grid_auto_columns": null,
      "grid_auto_flow": null,
      "grid_auto_rows": null,
      "grid_column": null,
      "grid_gap": null,
      "grid_row": null,
      "grid_template_areas": null,
      "grid_template_columns": null,
      "grid_template_rows": null,
      "height": null,
      "justify_content": null,
      "justify_items": null,
      "left": null,
      "margin": null,
      "max_height": null,
      "max_width": null,
      "min_height": null,
      "min_width": null,
      "object_fit": null,
      "object_position": null,
      "order": null,
      "overflow": null,
      "overflow_x": null,
      "overflow_y": null,
      "padding": null,
      "right": null,
      "top": null,
      "visibility": null,
      "width": null
     }
    },
    "87ea26b42f4b473d8c8b89cf93a3d582": {
     "model_module": "@jupyter-widgets/controls",
     "model_name": "DescriptionStyleModel",
     "model_module_version": "1.5.0",
     "state": {
      "_model_module": "@jupyter-widgets/controls",
      "_model_module_version": "1.5.0",
      "_model_name": "DescriptionStyleModel",
      "_view_count": null,
      "_view_module": "@jupyter-widgets/base",
      "_view_module_version": "1.2.0",
      "_view_name": "StyleView",
      "description_width": ""
     }
    },
    "5472120f02b543628bb264f24059d777": {
     "model_module": "@jupyter-widgets/base",
     "model_name": "LayoutModel",
     "model_module_version": "1.2.0",
     "state": {
      "_model_module": "@jupyter-widgets/base",
      "_model_module_version": "1.2.0",
      "_model_name": "LayoutModel",
      "_view_count": null,
      "_view_module": "@jupyter-widgets/base",
      "_view_module_version": "1.2.0",
      "_view_name": "LayoutView",
      "align_content": null,
      "align_items": null,
      "align_self": null,
      "border": null,
      "bottom": null,
      "display": null,
      "flex": null,
      "flex_flow": null,
      "grid_area": null,
      "grid_auto_columns": null,
      "grid_auto_flow": null,
      "grid_auto_rows": null,
      "grid_column": null,
      "grid_gap": null,
      "grid_row": null,
      "grid_template_areas": null,
      "grid_template_columns": null,
      "grid_template_rows": null,
      "height": null,
      "justify_content": null,
      "justify_items": null,
      "left": null,
      "margin": null,
      "max_height": null,
      "max_width": null,
      "min_height": null,
      "min_width": null,
      "object_fit": null,
      "object_position": null,
      "order": null,
      "overflow": null,
      "overflow_x": null,
      "overflow_y": null,
      "padding": null,
      "right": null,
      "top": null,
      "visibility": null,
      "width": null
     }
    },
    "bcd4794e0c0a46b2b06b92bc0fdd370b": {
     "model_module": "@jupyter-widgets/controls",
     "model_name": "ProgressStyleModel",
     "model_module_version": "1.5.0",
     "state": {
      "_model_module": "@jupyter-widgets/controls",
      "_model_module_version": "1.5.0",
      "_model_name": "ProgressStyleModel",
      "_view_count": null,
      "_view_module": "@jupyter-widgets/base",
      "_view_module_version": "1.2.0",
      "_view_name": "StyleView",
      "bar_color": null,
      "description_width": ""
     }
    },
    "a1bb672aa71a41a4b03326f60294ca06": {
     "model_module": "@jupyter-widgets/base",
     "model_name": "LayoutModel",
     "model_module_version": "1.2.0",
     "state": {
      "_model_module": "@jupyter-widgets/base",
      "_model_module_version": "1.2.0",
      "_model_name": "LayoutModel",
      "_view_count": null,
      "_view_module": "@jupyter-widgets/base",
      "_view_module_version": "1.2.0",
      "_view_name": "LayoutView",
      "align_content": null,
      "align_items": null,
      "align_self": null,
      "border": null,
      "bottom": null,
      "display": null,
      "flex": null,
      "flex_flow": null,
      "grid_area": null,
      "grid_auto_columns": null,
      "grid_auto_flow": null,
      "grid_auto_rows": null,
      "grid_column": null,
      "grid_gap": null,
      "grid_row": null,
      "grid_template_areas": null,
      "grid_template_columns": null,
      "grid_template_rows": null,
      "height": null,
      "justify_content": null,
      "justify_items": null,
      "left": null,
      "margin": null,
      "max_height": null,
      "max_width": null,
      "min_height": null,
      "min_width": null,
      "object_fit": null,
      "object_position": null,
      "order": null,
      "overflow": null,
      "overflow_x": null,
      "overflow_y": null,
      "padding": null,
      "right": null,
      "top": null,
      "visibility": null,
      "width": null
     }
    },
    "933c21e5ee9e4d3d9c5f8e7435ea99ce": {
     "model_module": "@jupyter-widgets/controls",
     "model_name": "DescriptionStyleModel",
     "model_module_version": "1.5.0",
     "state": {
      "_model_module": "@jupyter-widgets/controls",
      "_model_module_version": "1.5.0",
      "_model_name": "DescriptionStyleModel",
      "_view_count": null,
      "_view_module": "@jupyter-widgets/base",
      "_view_module_version": "1.2.0",
      "_view_name": "StyleView",
      "description_width": ""
     }
    },
    "bb0a2cc7ea2f47a6b387f73452b99de4": {
     "model_module": "@jupyter-widgets/controls",
     "model_name": "HBoxModel",
     "model_module_version": "1.5.0",
     "state": {
      "_dom_classes": [],
      "_model_module": "@jupyter-widgets/controls",
      "_model_module_version": "1.5.0",
      "_model_name": "HBoxModel",
      "_view_count": null,
      "_view_module": "@jupyter-widgets/controls",
      "_view_module_version": "1.5.0",
      "_view_name": "HBoxView",
      "box_style": "",
      "children": [
       "IPY_MODEL_8c5fb63294f447148771320150154d08",
       "IPY_MODEL_95f3b80b99a84aaab00ac9f081c2e956",
       "IPY_MODEL_45c9ea131c5548ee86a9ecece7a6c908"
      ],
      "layout": "IPY_MODEL_4460ad9658934a21a43d23202b9f429a"
     }
    },
    "8c5fb63294f447148771320150154d08": {
     "model_module": "@jupyter-widgets/controls",
     "model_name": "HTMLModel",
     "model_module_version": "1.5.0",
     "state": {
      "_dom_classes": [],
      "_model_module": "@jupyter-widgets/controls",
      "_model_module_version": "1.5.0",
      "_model_name": "HTMLModel",
      "_view_count": null,
      "_view_module": "@jupyter-widgets/controls",
      "_view_module_version": "1.5.0",
      "_view_name": "HTMLView",
      "description": "",
      "description_tooltip": null,
      "layout": "IPY_MODEL_6dad2e556bec495faaf19cea4ced7666",
      "placeholder": "​",
      "style": "IPY_MODEL_3f7eb8b263434848920a80bf83dd7d5a",
      "value": "Map: 100%"
     }
    },
    "95f3b80b99a84aaab00ac9f081c2e956": {
     "model_module": "@jupyter-widgets/controls",
     "model_name": "FloatProgressModel",
     "model_module_version": "1.5.0",
     "state": {
      "_dom_classes": [],
      "_model_module": "@jupyter-widgets/controls",
      "_model_module_version": "1.5.0",
      "_model_name": "FloatProgressModel",
      "_view_count": null,
      "_view_module": "@jupyter-widgets/controls",
      "_view_module_version": "1.5.0",
      "_view_name": "ProgressView",
      "bar_style": "success",
      "description": "",
      "description_tooltip": null,
      "layout": "IPY_MODEL_a5d7a7a35186481385500ada6ca86ff6",
      "max": 197,
      "min": 0,
      "orientation": "horizontal",
      "style": "IPY_MODEL_32f7b27dade64dae918ba2de999932a6",
      "value": 197
     }
    },
    "45c9ea131c5548ee86a9ecece7a6c908": {
     "model_module": "@jupyter-widgets/controls",
     "model_name": "HTMLModel",
     "model_module_version": "1.5.0",
     "state": {
      "_dom_classes": [],
      "_model_module": "@jupyter-widgets/controls",
      "_model_module_version": "1.5.0",
      "_model_name": "HTMLModel",
      "_view_count": null,
      "_view_module": "@jupyter-widgets/controls",
      "_view_module_version": "1.5.0",
      "_view_name": "HTMLView",
      "description": "",
      "description_tooltip": null,
      "layout": "IPY_MODEL_bbe88ce328e74dffa61e6afa8e1ce412",
      "placeholder": "​",
      "style": "IPY_MODEL_6d16a0b16e784526add09b77c6a0e73a",
      "value": " 197/197 [00:00&lt;00:00, 1177.38 examples/s]"
     }
    },
    "4460ad9658934a21a43d23202b9f429a": {
     "model_module": "@jupyter-widgets/base",
     "model_name": "LayoutModel",
     "model_module_version": "1.2.0",
     "state": {
      "_model_module": "@jupyter-widgets/base",
      "_model_module_version": "1.2.0",
      "_model_name": "LayoutModel",
      "_view_count": null,
      "_view_module": "@jupyter-widgets/base",
      "_view_module_version": "1.2.0",
      "_view_name": "LayoutView",
      "align_content": null,
      "align_items": null,
      "align_self": null,
      "border": null,
      "bottom": null,
      "display": null,
      "flex": null,
      "flex_flow": null,
      "grid_area": null,
      "grid_auto_columns": null,
      "grid_auto_flow": null,
      "grid_auto_rows": null,
      "grid_column": null,
      "grid_gap": null,
      "grid_row": null,
      "grid_template_areas": null,
      "grid_template_columns": null,
      "grid_template_rows": null,
      "height": null,
      "justify_content": null,
      "justify_items": null,
      "left": null,
      "margin": null,
      "max_height": null,
      "max_width": null,
      "min_height": null,
      "min_width": null,
      "object_fit": null,
      "object_position": null,
      "order": null,
      "overflow": null,
      "overflow_x": null,
      "overflow_y": null,
      "padding": null,
      "right": null,
      "top": null,
      "visibility": null,
      "width": null
     }
    },
    "6dad2e556bec495faaf19cea4ced7666": {
     "model_module": "@jupyter-widgets/base",
     "model_name": "LayoutModel",
     "model_module_version": "1.2.0",
     "state": {
      "_model_module": "@jupyter-widgets/base",
      "_model_module_version": "1.2.0",
      "_model_name": "LayoutModel",
      "_view_count": null,
      "_view_module": "@jupyter-widgets/base",
      "_view_module_version": "1.2.0",
      "_view_name": "LayoutView",
      "align_content": null,
      "align_items": null,
      "align_self": null,
      "border": null,
      "bottom": null,
      "display": null,
      "flex": null,
      "flex_flow": null,
      "grid_area": null,
      "grid_auto_columns": null,
      "grid_auto_flow": null,
      "grid_auto_rows": null,
      "grid_column": null,
      "grid_gap": null,
      "grid_row": null,
      "grid_template_areas": null,
      "grid_template_columns": null,
      "grid_template_rows": null,
      "height": null,
      "justify_content": null,
      "justify_items": null,
      "left": null,
      "margin": null,
      "max_height": null,
      "max_width": null,
      "min_height": null,
      "min_width": null,
      "object_fit": null,
      "object_position": null,
      "order": null,
      "overflow": null,
      "overflow_x": null,
      "overflow_y": null,
      "padding": null,
      "right": null,
      "top": null,
      "visibility": null,
      "width": null
     }
    },
    "3f7eb8b263434848920a80bf83dd7d5a": {
     "model_module": "@jupyter-widgets/controls",
     "model_name": "DescriptionStyleModel",
     "model_module_version": "1.5.0",
     "state": {
      "_model_module": "@jupyter-widgets/controls",
      "_model_module_version": "1.5.0",
      "_model_name": "DescriptionStyleModel",
      "_view_count": null,
      "_view_module": "@jupyter-widgets/base",
      "_view_module_version": "1.2.0",
      "_view_name": "StyleView",
      "description_width": ""
     }
    },
    "a5d7a7a35186481385500ada6ca86ff6": {
     "model_module": "@jupyter-widgets/base",
     "model_name": "LayoutModel",
     "model_module_version": "1.2.0",
     "state": {
      "_model_module": "@jupyter-widgets/base",
      "_model_module_version": "1.2.0",
      "_model_name": "LayoutModel",
      "_view_count": null,
      "_view_module": "@jupyter-widgets/base",
      "_view_module_version": "1.2.0",
      "_view_name": "LayoutView",
      "align_content": null,
      "align_items": null,
      "align_self": null,
      "border": null,
      "bottom": null,
      "display": null,
      "flex": null,
      "flex_flow": null,
      "grid_area": null,
      "grid_auto_columns": null,
      "grid_auto_flow": null,
      "grid_auto_rows": null,
      "grid_column": null,
      "grid_gap": null,
      "grid_row": null,
      "grid_template_areas": null,
      "grid_template_columns": null,
      "grid_template_rows": null,
      "height": null,
      "justify_content": null,
      "justify_items": null,
      "left": null,
      "margin": null,
      "max_height": null,
      "max_width": null,
      "min_height": null,
      "min_width": null,
      "object_fit": null,
      "object_position": null,
      "order": null,
      "overflow": null,
      "overflow_x": null,
      "overflow_y": null,
      "padding": null,
      "right": null,
      "top": null,
      "visibility": null,
      "width": null
     }
    },
    "32f7b27dade64dae918ba2de999932a6": {
     "model_module": "@jupyter-widgets/controls",
     "model_name": "ProgressStyleModel",
     "model_module_version": "1.5.0",
     "state": {
      "_model_module": "@jupyter-widgets/controls",
      "_model_module_version": "1.5.0",
      "_model_name": "ProgressStyleModel",
      "_view_count": null,
      "_view_module": "@jupyter-widgets/base",
      "_view_module_version": "1.2.0",
      "_view_name": "StyleView",
      "bar_color": null,
      "description_width": ""
     }
    },
    "bbe88ce328e74dffa61e6afa8e1ce412": {
     "model_module": "@jupyter-widgets/base",
     "model_name": "LayoutModel",
     "model_module_version": "1.2.0",
     "state": {
      "_model_module": "@jupyter-widgets/base",
      "_model_module_version": "1.2.0",
      "_model_name": "LayoutModel",
      "_view_count": null,
      "_view_module": "@jupyter-widgets/base",
      "_view_module_version": "1.2.0",
      "_view_name": "LayoutView",
      "align_content": null,
      "align_items": null,
      "align_self": null,
      "border": null,
      "bottom": null,
      "display": null,
      "flex": null,
      "flex_flow": null,
      "grid_area": null,
      "grid_auto_columns": null,
      "grid_auto_flow": null,
      "grid_auto_rows": null,
      "grid_column": null,
      "grid_gap": null,
      "grid_row": null,
      "grid_template_areas": null,
      "grid_template_columns": null,
      "grid_template_rows": null,
      "height": null,
      "justify_content": null,
      "justify_items": null,
      "left": null,
      "margin": null,
      "max_height": null,
      "max_width": null,
      "min_height": null,
      "min_width": null,
      "object_fit": null,
      "object_position": null,
      "order": null,
      "overflow": null,
      "overflow_x": null,
      "overflow_y": null,
      "padding": null,
      "right": null,
      "top": null,
      "visibility": null,
      "width": null
     }
    },
    "6d16a0b16e784526add09b77c6a0e73a": {
     "model_module": "@jupyter-widgets/controls",
     "model_name": "DescriptionStyleModel",
     "model_module_version": "1.5.0",
     "state": {
      "_model_module": "@jupyter-widgets/controls",
      "_model_module_version": "1.5.0",
      "_model_name": "DescriptionStyleModel",
      "_view_count": null,
      "_view_module": "@jupyter-widgets/base",
      "_view_module_version": "1.2.0",
      "_view_name": "StyleView",
      "description_width": ""
     }
    },
    "89df87fd53024a3c986d4cf9fd4c3f9e": {
     "model_module": "@jupyter-widgets/controls",
     "model_name": "HBoxModel",
     "model_module_version": "1.5.0",
     "state": {
      "_dom_classes": [],
      "_model_module": "@jupyter-widgets/controls",
      "_model_module_version": "1.5.0",
      "_model_name": "HBoxModel",
      "_view_count": null,
      "_view_module": "@jupyter-widgets/controls",
      "_view_module_version": "1.5.0",
      "_view_name": "HBoxView",
      "box_style": "",
      "children": [
       "IPY_MODEL_c7b4892f1f724a0796ed8a8fffa83bf6",
       "IPY_MODEL_cb2e64d813cd4eeb8bc1e90e98e4427f",
       "IPY_MODEL_b084ffd027d940118ccdb7843be6ceff"
      ],
      "layout": "IPY_MODEL_d246d41c047243fea14a2eaa91305f3e"
     }
    },
    "c7b4892f1f724a0796ed8a8fffa83bf6": {
     "model_module": "@jupyter-widgets/controls",
     "model_name": "HTMLModel",
     "model_module_version": "1.5.0",
     "state": {
      "_dom_classes": [],
      "_model_module": "@jupyter-widgets/controls",
      "_model_module_version": "1.5.0",
      "_model_name": "HTMLModel",
      "_view_count": null,
      "_view_module": "@jupyter-widgets/controls",
      "_view_module_version": "1.5.0",
      "_view_name": "HTMLView",
      "description": "",
      "description_tooltip": null,
      "layout": "IPY_MODEL_5ef82643bef440baa6ffc5c06df49ce1",
      "placeholder": "​",
      "style": "IPY_MODEL_ddca4d1289e44034abf22c4b0d40ff34",
      "value": "Map: 100%"
     }
    },
    "cb2e64d813cd4eeb8bc1e90e98e4427f": {
     "model_module": "@jupyter-widgets/controls",
     "model_name": "FloatProgressModel",
     "model_module_version": "1.5.0",
     "state": {
      "_dom_classes": [],
      "_model_module": "@jupyter-widgets/controls",
      "_model_module_version": "1.5.0",
      "_model_name": "FloatProgressModel",
      "_view_count": null,
      "_view_module": "@jupyter-widgets/controls",
      "_view_module_version": "1.5.0",
      "_view_name": "ProgressView",
      "bar_style": "success",
      "description": "",
      "description_tooltip": null,
      "layout": "IPY_MODEL_2e867f1e42ba4560b184e07580204a2b",
      "max": 197,
      "min": 0,
      "orientation": "horizontal",
      "style": "IPY_MODEL_df6a3e17d21841c382ddcec53a7637db",
      "value": 197
     }
    },
    "b084ffd027d940118ccdb7843be6ceff": {
     "model_module": "@jupyter-widgets/controls",
     "model_name": "HTMLModel",
     "model_module_version": "1.5.0",
     "state": {
      "_dom_classes": [],
      "_model_module": "@jupyter-widgets/controls",
      "_model_module_version": "1.5.0",
      "_model_name": "HTMLModel",
      "_view_count": null,
      "_view_module": "@jupyter-widgets/controls",
      "_view_module_version": "1.5.0",
      "_view_name": "HTMLView",
      "description": "",
      "description_tooltip": null,
      "layout": "IPY_MODEL_bd80dc51ae444000b7a78c20957d3ad6",
      "placeholder": "​",
      "style": "IPY_MODEL_2d8892404f0548419dfae1fd05c80244",
      "value": " 197/197 [00:00&lt;00:00, 1070.11 examples/s]"
     }
    },
    "d246d41c047243fea14a2eaa91305f3e": {
     "model_module": "@jupyter-widgets/base",
     "model_name": "LayoutModel",
     "model_module_version": "1.2.0",
     "state": {
      "_model_module": "@jupyter-widgets/base",
      "_model_module_version": "1.2.0",
      "_model_name": "LayoutModel",
      "_view_count": null,
      "_view_module": "@jupyter-widgets/base",
      "_view_module_version": "1.2.0",
      "_view_name": "LayoutView",
      "align_content": null,
      "align_items": null,
      "align_self": null,
      "border": null,
      "bottom": null,
      "display": null,
      "flex": null,
      "flex_flow": null,
      "grid_area": null,
      "grid_auto_columns": null,
      "grid_auto_flow": null,
      "grid_auto_rows": null,
      "grid_column": null,
      "grid_gap": null,
      "grid_row": null,
      "grid_template_areas": null,
      "grid_template_columns": null,
      "grid_template_rows": null,
      "height": null,
      "justify_content": null,
      "justify_items": null,
      "left": null,
      "margin": null,
      "max_height": null,
      "max_width": null,
      "min_height": null,
      "min_width": null,
      "object_fit": null,
      "object_position": null,
      "order": null,
      "overflow": null,
      "overflow_x": null,
      "overflow_y": null,
      "padding": null,
      "right": null,
      "top": null,
      "visibility": null,
      "width": null
     }
    },
    "5ef82643bef440baa6ffc5c06df49ce1": {
     "model_module": "@jupyter-widgets/base",
     "model_name": "LayoutModel",
     "model_module_version": "1.2.0",
     "state": {
      "_model_module": "@jupyter-widgets/base",
      "_model_module_version": "1.2.0",
      "_model_name": "LayoutModel",
      "_view_count": null,
      "_view_module": "@jupyter-widgets/base",
      "_view_module_version": "1.2.0",
      "_view_name": "LayoutView",
      "align_content": null,
      "align_items": null,
      "align_self": null,
      "border": null,
      "bottom": null,
      "display": null,
      "flex": null,
      "flex_flow": null,
      "grid_area": null,
      "grid_auto_columns": null,
      "grid_auto_flow": null,
      "grid_auto_rows": null,
      "grid_column": null,
      "grid_gap": null,
      "grid_row": null,
      "grid_template_areas": null,
      "grid_template_columns": null,
      "grid_template_rows": null,
      "height": null,
      "justify_content": null,
      "justify_items": null,
      "left": null,
      "margin": null,
      "max_height": null,
      "max_width": null,
      "min_height": null,
      "min_width": null,
      "object_fit": null,
      "object_position": null,
      "order": null,
      "overflow": null,
      "overflow_x": null,
      "overflow_y": null,
      "padding": null,
      "right": null,
      "top": null,
      "visibility": null,
      "width": null
     }
    },
    "ddca4d1289e44034abf22c4b0d40ff34": {
     "model_module": "@jupyter-widgets/controls",
     "model_name": "DescriptionStyleModel",
     "model_module_version": "1.5.0",
     "state": {
      "_model_module": "@jupyter-widgets/controls",
      "_model_module_version": "1.5.0",
      "_model_name": "DescriptionStyleModel",
      "_view_count": null,
      "_view_module": "@jupyter-widgets/base",
      "_view_module_version": "1.2.0",
      "_view_name": "StyleView",
      "description_width": ""
     }
    },
    "2e867f1e42ba4560b184e07580204a2b": {
     "model_module": "@jupyter-widgets/base",
     "model_name": "LayoutModel",
     "model_module_version": "1.2.0",
     "state": {
      "_model_module": "@jupyter-widgets/base",
      "_model_module_version": "1.2.0",
      "_model_name": "LayoutModel",
      "_view_count": null,
      "_view_module": "@jupyter-widgets/base",
      "_view_module_version": "1.2.0",
      "_view_name": "LayoutView",
      "align_content": null,
      "align_items": null,
      "align_self": null,
      "border": null,
      "bottom": null,
      "display": null,
      "flex": null,
      "flex_flow": null,
      "grid_area": null,
      "grid_auto_columns": null,
      "grid_auto_flow": null,
      "grid_auto_rows": null,
      "grid_column": null,
      "grid_gap": null,
      "grid_row": null,
      "grid_template_areas": null,
      "grid_template_columns": null,
      "grid_template_rows": null,
      "height": null,
      "justify_content": null,
      "justify_items": null,
      "left": null,
      "margin": null,
      "max_height": null,
      "max_width": null,
      "min_height": null,
      "min_width": null,
      "object_fit": null,
      "object_position": null,
      "order": null,
      "overflow": null,
      "overflow_x": null,
      "overflow_y": null,
      "padding": null,
      "right": null,
      "top": null,
      "visibility": null,
      "width": null
     }
    },
    "df6a3e17d21841c382ddcec53a7637db": {
     "model_module": "@jupyter-widgets/controls",
     "model_name": "ProgressStyleModel",
     "model_module_version": "1.5.0",
     "state": {
      "_model_module": "@jupyter-widgets/controls",
      "_model_module_version": "1.5.0",
      "_model_name": "ProgressStyleModel",
      "_view_count": null,
      "_view_module": "@jupyter-widgets/base",
      "_view_module_version": "1.2.0",
      "_view_name": "StyleView",
      "bar_color": null,
      "description_width": ""
     }
    },
    "bd80dc51ae444000b7a78c20957d3ad6": {
     "model_module": "@jupyter-widgets/base",
     "model_name": "LayoutModel",
     "model_module_version": "1.2.0",
     "state": {
      "_model_module": "@jupyter-widgets/base",
      "_model_module_version": "1.2.0",
      "_model_name": "LayoutModel",
      "_view_count": null,
      "_view_module": "@jupyter-widgets/base",
      "_view_module_version": "1.2.0",
      "_view_name": "LayoutView",
      "align_content": null,
      "align_items": null,
      "align_self": null,
      "border": null,
      "bottom": null,
      "display": null,
      "flex": null,
      "flex_flow": null,
      "grid_area": null,
      "grid_auto_columns": null,
      "grid_auto_flow": null,
      "grid_auto_rows": null,
      "grid_column": null,
      "grid_gap": null,
      "grid_row": null,
      "grid_template_areas": null,
      "grid_template_columns": null,
      "grid_template_rows": null,
      "height": null,
      "justify_content": null,
      "justify_items": null,
      "left": null,
      "margin": null,
      "max_height": null,
      "max_width": null,
      "min_height": null,
      "min_width": null,
      "object_fit": null,
      "object_position": null,
      "order": null,
      "overflow": null,
      "overflow_x": null,
      "overflow_y": null,
      "padding": null,
      "right": null,
      "top": null,
      "visibility": null,
      "width": null
     }
    },
    "2d8892404f0548419dfae1fd05c80244": {
     "model_module": "@jupyter-widgets/controls",
     "model_name": "DescriptionStyleModel",
     "model_module_version": "1.5.0",
     "state": {
      "_model_module": "@jupyter-widgets/controls",
      "_model_module_version": "1.5.0",
      "_model_name": "DescriptionStyleModel",
      "_view_count": null,
      "_view_module": "@jupyter-widgets/base",
      "_view_module_version": "1.2.0",
      "_view_name": "StyleView",
      "description_width": ""
     }
    }
   }
  }
 },
 "cells": [
  {
   "cell_type": "code",
   "source": [
    "!pip install --upgrade transformers datasets"
   ],
   "metadata": {
    "colab": {
     "base_uri": "https://localhost:8080/"
    },
    "id": "2vRd0ZT5V4Mc",
    "outputId": "1f4914d2-f7bf-43d5-f136-4079f8ab608c",
    "ExecuteTime": {
     "end_time": "2025-10-25T16:46:48.023227Z",
     "start_time": "2025-10-25T16:46:45.078825Z"
    }
   },
   "outputs": [
    {
     "name": "stdout",
     "output_type": "stream",
     "text": [
      "Requirement already satisfied: transformers in c:\\users\\alexf\\onedrive\\desktop\\upm\\biomedical informatics\\assignement 1- retrieval information\\binary-classifier-for-nutritional-ir\\venv\\lib\\site-packages (4.57.1)\n",
      "Requirement already satisfied: datasets in c:\\users\\alexf\\onedrive\\desktop\\upm\\biomedical informatics\\assignement 1- retrieval information\\binary-classifier-for-nutritional-ir\\venv\\lib\\site-packages (4.3.0)\n",
      "Requirement already satisfied: filelock in c:\\users\\alexf\\onedrive\\desktop\\upm\\biomedical informatics\\assignement 1- retrieval information\\binary-classifier-for-nutritional-ir\\venv\\lib\\site-packages (from transformers) (3.20.0)\n",
      "Requirement already satisfied: huggingface-hub<1.0,>=0.34.0 in c:\\users\\alexf\\onedrive\\desktop\\upm\\biomedical informatics\\assignement 1- retrieval information\\binary-classifier-for-nutritional-ir\\venv\\lib\\site-packages (from transformers) (0.36.0)\n",
      "Requirement already satisfied: numpy>=1.17 in c:\\users\\alexf\\onedrive\\desktop\\upm\\biomedical informatics\\assignement 1- retrieval information\\binary-classifier-for-nutritional-ir\\venv\\lib\\site-packages (from transformers) (2.3.3)\n",
      "Requirement already satisfied: packaging>=20.0 in c:\\users\\alexf\\onedrive\\desktop\\upm\\biomedical informatics\\assignement 1- retrieval information\\binary-classifier-for-nutritional-ir\\venv\\lib\\site-packages (from transformers) (25.0)\n",
      "Requirement already satisfied: pyyaml>=5.1 in c:\\users\\alexf\\onedrive\\desktop\\upm\\biomedical informatics\\assignement 1- retrieval information\\binary-classifier-for-nutritional-ir\\venv\\lib\\site-packages (from transformers) (6.0.3)\n",
      "Requirement already satisfied: regex!=2019.12.17 in c:\\users\\alexf\\onedrive\\desktop\\upm\\biomedical informatics\\assignement 1- retrieval information\\binary-classifier-for-nutritional-ir\\venv\\lib\\site-packages (from transformers) (2025.10.23)\n",
      "Requirement already satisfied: requests in c:\\users\\alexf\\onedrive\\desktop\\upm\\biomedical informatics\\assignement 1- retrieval information\\binary-classifier-for-nutritional-ir\\venv\\lib\\site-packages (from transformers) (2.32.5)\n",
      "Requirement already satisfied: tokenizers<=0.23.0,>=0.22.0 in c:\\users\\alexf\\onedrive\\desktop\\upm\\biomedical informatics\\assignement 1- retrieval information\\binary-classifier-for-nutritional-ir\\venv\\lib\\site-packages (from transformers) (0.22.1)\n",
      "Requirement already satisfied: safetensors>=0.4.3 in c:\\users\\alexf\\onedrive\\desktop\\upm\\biomedical informatics\\assignement 1- retrieval information\\binary-classifier-for-nutritional-ir\\venv\\lib\\site-packages (from transformers) (0.6.2)\n",
      "Requirement already satisfied: tqdm>=4.27 in c:\\users\\alexf\\onedrive\\desktop\\upm\\biomedical informatics\\assignement 1- retrieval information\\binary-classifier-for-nutritional-ir\\venv\\lib\\site-packages (from transformers) (4.67.1)\n",
      "Requirement already satisfied: fsspec>=2023.5.0 in c:\\users\\alexf\\onedrive\\desktop\\upm\\biomedical informatics\\assignement 1- retrieval information\\binary-classifier-for-nutritional-ir\\venv\\lib\\site-packages (from huggingface-hub<1.0,>=0.34.0->transformers) (2025.9.0)\n",
      "Requirement already satisfied: typing-extensions>=3.7.4.3 in c:\\users\\alexf\\onedrive\\desktop\\upm\\biomedical informatics\\assignement 1- retrieval information\\binary-classifier-for-nutritional-ir\\venv\\lib\\site-packages (from huggingface-hub<1.0,>=0.34.0->transformers) (4.15.0)\n",
      "Requirement already satisfied: pyarrow>=21.0.0 in c:\\users\\alexf\\onedrive\\desktop\\upm\\biomedical informatics\\assignement 1- retrieval information\\binary-classifier-for-nutritional-ir\\venv\\lib\\site-packages (from datasets) (21.0.0)\n",
      "Requirement already satisfied: dill<0.4.1,>=0.3.0 in c:\\users\\alexf\\onedrive\\desktop\\upm\\biomedical informatics\\assignement 1- retrieval information\\binary-classifier-for-nutritional-ir\\venv\\lib\\site-packages (from datasets) (0.4.0)\n",
      "Requirement already satisfied: pandas in c:\\users\\alexf\\onedrive\\desktop\\upm\\biomedical informatics\\assignement 1- retrieval information\\binary-classifier-for-nutritional-ir\\venv\\lib\\site-packages (from datasets) (2.3.2)\n",
      "Requirement already satisfied: httpx<1.0.0 in c:\\users\\alexf\\onedrive\\desktop\\upm\\biomedical informatics\\assignement 1- retrieval information\\binary-classifier-for-nutritional-ir\\venv\\lib\\site-packages (from datasets) (0.28.1)\n",
      "Requirement already satisfied: xxhash in c:\\users\\alexf\\onedrive\\desktop\\upm\\biomedical informatics\\assignement 1- retrieval information\\binary-classifier-for-nutritional-ir\\venv\\lib\\site-packages (from datasets) (3.6.0)\n",
      "Requirement already satisfied: multiprocess<0.70.17 in c:\\users\\alexf\\onedrive\\desktop\\upm\\biomedical informatics\\assignement 1- retrieval information\\binary-classifier-for-nutritional-ir\\venv\\lib\\site-packages (from datasets) (0.70.16)\n",
      "Requirement already satisfied: aiohttp!=4.0.0a0,!=4.0.0a1 in c:\\users\\alexf\\onedrive\\desktop\\upm\\biomedical informatics\\assignement 1- retrieval information\\binary-classifier-for-nutritional-ir\\venv\\lib\\site-packages (from fsspec[http]<=2025.9.0,>=2023.1.0->datasets) (3.13.1)\n",
      "Requirement already satisfied: anyio in c:\\users\\alexf\\onedrive\\desktop\\upm\\biomedical informatics\\assignement 1- retrieval information\\binary-classifier-for-nutritional-ir\\venv\\lib\\site-packages (from httpx<1.0.0->datasets) (4.11.0)\n",
      "Requirement already satisfied: certifi in c:\\users\\alexf\\onedrive\\desktop\\upm\\biomedical informatics\\assignement 1- retrieval information\\binary-classifier-for-nutritional-ir\\venv\\lib\\site-packages (from httpx<1.0.0->datasets) (2025.8.3)\n",
      "Requirement already satisfied: httpcore==1.* in c:\\users\\alexf\\onedrive\\desktop\\upm\\biomedical informatics\\assignement 1- retrieval information\\binary-classifier-for-nutritional-ir\\venv\\lib\\site-packages (from httpx<1.0.0->datasets) (1.0.9)\n",
      "Requirement already satisfied: idna in c:\\users\\alexf\\onedrive\\desktop\\upm\\biomedical informatics\\assignement 1- retrieval information\\binary-classifier-for-nutritional-ir\\venv\\lib\\site-packages (from httpx<1.0.0->datasets) (3.10)\n",
      "Requirement already satisfied: h11>=0.16 in c:\\users\\alexf\\onedrive\\desktop\\upm\\biomedical informatics\\assignement 1- retrieval information\\binary-classifier-for-nutritional-ir\\venv\\lib\\site-packages (from httpcore==1.*->httpx<1.0.0->datasets) (0.16.0)\n",
      "Requirement already satisfied: aiohappyeyeballs>=2.5.0 in c:\\users\\alexf\\onedrive\\desktop\\upm\\biomedical informatics\\assignement 1- retrieval information\\binary-classifier-for-nutritional-ir\\venv\\lib\\site-packages (from aiohttp!=4.0.0a0,!=4.0.0a1->fsspec[http]<=2025.9.0,>=2023.1.0->datasets) (2.6.1)\n",
      "Requirement already satisfied: aiosignal>=1.4.0 in c:\\users\\alexf\\onedrive\\desktop\\upm\\biomedical informatics\\assignement 1- retrieval information\\binary-classifier-for-nutritional-ir\\venv\\lib\\site-packages (from aiohttp!=4.0.0a0,!=4.0.0a1->fsspec[http]<=2025.9.0,>=2023.1.0->datasets) (1.4.0)\n",
      "Requirement already satisfied: attrs>=17.3.0 in c:\\users\\alexf\\onedrive\\desktop\\upm\\biomedical informatics\\assignement 1- retrieval information\\binary-classifier-for-nutritional-ir\\venv\\lib\\site-packages (from aiohttp!=4.0.0a0,!=4.0.0a1->fsspec[http]<=2025.9.0,>=2023.1.0->datasets) (25.3.0)\n",
      "Requirement already satisfied: frozenlist>=1.1.1 in c:\\users\\alexf\\onedrive\\desktop\\upm\\biomedical informatics\\assignement 1- retrieval information\\binary-classifier-for-nutritional-ir\\venv\\lib\\site-packages (from aiohttp!=4.0.0a0,!=4.0.0a1->fsspec[http]<=2025.9.0,>=2023.1.0->datasets) (1.8.0)\n",
      "Requirement already satisfied: multidict<7.0,>=4.5 in c:\\users\\alexf\\onedrive\\desktop\\upm\\biomedical informatics\\assignement 1- retrieval information\\binary-classifier-for-nutritional-ir\\venv\\lib\\site-packages (from aiohttp!=4.0.0a0,!=4.0.0a1->fsspec[http]<=2025.9.0,>=2023.1.0->datasets) (6.7.0)\n",
      "Requirement already satisfied: propcache>=0.2.0 in c:\\users\\alexf\\onedrive\\desktop\\upm\\biomedical informatics\\assignement 1- retrieval information\\binary-classifier-for-nutritional-ir\\venv\\lib\\site-packages (from aiohttp!=4.0.0a0,!=4.0.0a1->fsspec[http]<=2025.9.0,>=2023.1.0->datasets) (0.4.1)\n",
      "Requirement already satisfied: yarl<2.0,>=1.17.0 in c:\\users\\alexf\\onedrive\\desktop\\upm\\biomedical informatics\\assignement 1- retrieval information\\binary-classifier-for-nutritional-ir\\venv\\lib\\site-packages (from aiohttp!=4.0.0a0,!=4.0.0a1->fsspec[http]<=2025.9.0,>=2023.1.0->datasets) (1.22.0)\n",
      "Requirement already satisfied: charset_normalizer<4,>=2 in c:\\users\\alexf\\onedrive\\desktop\\upm\\biomedical informatics\\assignement 1- retrieval information\\binary-classifier-for-nutritional-ir\\venv\\lib\\site-packages (from requests->transformers) (3.4.3)\n",
      "Requirement already satisfied: urllib3<3,>=1.21.1 in c:\\users\\alexf\\onedrive\\desktop\\upm\\biomedical informatics\\assignement 1- retrieval information\\binary-classifier-for-nutritional-ir\\venv\\lib\\site-packages (from requests->transformers) (2.5.0)\n",
      "Requirement already satisfied: colorama in c:\\users\\alexf\\onedrive\\desktop\\upm\\biomedical informatics\\assignement 1- retrieval information\\binary-classifier-for-nutritional-ir\\venv\\lib\\site-packages (from tqdm>=4.27->transformers) (0.4.6)\n",
      "Requirement already satisfied: sniffio>=1.1 in c:\\users\\alexf\\onedrive\\desktop\\upm\\biomedical informatics\\assignement 1- retrieval information\\binary-classifier-for-nutritional-ir\\venv\\lib\\site-packages (from anyio->httpx<1.0.0->datasets) (1.3.1)\n",
      "Requirement already satisfied: python-dateutil>=2.8.2 in c:\\users\\alexf\\onedrive\\desktop\\upm\\biomedical informatics\\assignement 1- retrieval information\\binary-classifier-for-nutritional-ir\\venv\\lib\\site-packages (from pandas->datasets) (2.9.0.post0)\n",
      "Requirement already satisfied: pytz>=2020.1 in c:\\users\\alexf\\onedrive\\desktop\\upm\\biomedical informatics\\assignement 1- retrieval information\\binary-classifier-for-nutritional-ir\\venv\\lib\\site-packages (from pandas->datasets) (2025.2)\n",
      "Requirement already satisfied: tzdata>=2022.7 in c:\\users\\alexf\\onedrive\\desktop\\upm\\biomedical informatics\\assignement 1- retrieval information\\binary-classifier-for-nutritional-ir\\venv\\lib\\site-packages (from pandas->datasets) (2025.2)\n",
      "Requirement already satisfied: six>=1.5 in c:\\users\\alexf\\onedrive\\desktop\\upm\\biomedical informatics\\assignement 1- retrieval information\\binary-classifier-for-nutritional-ir\\venv\\lib\\site-packages (from python-dateutil>=2.8.2->pandas->datasets) (1.17.0)\n"
     ]
    }
   ],
   "execution_count": 1
  },
  {
   "cell_type": "code",
   "source": [
    "import pandas as pd\n",
    "from datasets import Dataset, DatasetDict\n",
    "from transformers import AutoTokenizer, AutoModelForSequenceClassification, TrainingArguments, Trainer\n",
    "from sklearn.metrics import accuracy_score, f1_score, precision_score, recall_score\n",
    "import numpy as np\n",
    "import torch"
   ],
   "metadata": {
    "id": "osL6Bu6iUJT0",
    "ExecuteTime": {
     "end_time": "2025-10-25T16:47:06.162069Z",
     "start_time": "2025-10-25T16:46:48.069241Z"
    }
   },
   "outputs": [
    {
     "name": "stderr",
     "output_type": "stream",
     "text": [
      "C:\\Users\\alexf\\OneDrive\\Desktop\\UPM\\biomedical informatics\\Assignement 1- Retrieval Information\\Binary-Classifier-for-Nutritional-IR\\venv\\Lib\\site-packages\\tqdm\\auto.py:21: TqdmWarning: IProgress not found. Please update jupyter and ipywidgets. See https://ipywidgets.readthedocs.io/en/stable/user_install.html\n",
      "  from .autonotebook import tqdm as notebook_tqdm\n"
     ]
    },
    {
     "ename": "OSError",
     "evalue": "[WinError 1114] Routine di inizializzazione della libreria di collegamento dinamico (DLL) non riuscita. Error loading \"C:\\Users\\alexf\\OneDrive\\Desktop\\UPM\\biomedical informatics\\Assignement 1- Retrieval Information\\Binary-Classifier-for-Nutritional-IR\\venv\\Lib\\site-packages\\torch\\lib\\c10.dll\" or one of its dependencies.",
     "output_type": "error",
     "traceback": [
      "\u001B[31m---------------------------------------------------------------------------\u001B[39m",
      "\u001B[31mOSError\u001B[39m                                   Traceback (most recent call last)",
      "\u001B[36mCell\u001B[39m\u001B[36m \u001B[39m\u001B[32mIn[2]\u001B[39m\u001B[32m, line 2\u001B[39m\n\u001B[32m      1\u001B[39m \u001B[38;5;28;01mimport\u001B[39;00m\u001B[38;5;250m \u001B[39m\u001B[34;01mpandas\u001B[39;00m\u001B[38;5;250m \u001B[39m\u001B[38;5;28;01mas\u001B[39;00m\u001B[38;5;250m \u001B[39m\u001B[34;01mpd\u001B[39;00m\n\u001B[32m----> \u001B[39m\u001B[32m2\u001B[39m \u001B[38;5;28;01mfrom\u001B[39;00m\u001B[38;5;250m \u001B[39m\u001B[34;01mdatasets\u001B[39;00m\u001B[38;5;250m \u001B[39m\u001B[38;5;28;01mimport\u001B[39;00m Dataset, DatasetDict\n\u001B[32m      3\u001B[39m \u001B[38;5;28;01mfrom\u001B[39;00m\u001B[38;5;250m \u001B[39m\u001B[34;01mtransformers\u001B[39;00m\u001B[38;5;250m \u001B[39m\u001B[38;5;28;01mimport\u001B[39;00m AutoTokenizer, AutoModelForSequenceClassification, TrainingArguments, Trainer\n\u001B[32m      4\u001B[39m \u001B[38;5;28;01mfrom\u001B[39;00m\u001B[38;5;250m \u001B[39m\u001B[34;01msklearn\u001B[39;00m\u001B[34;01m.\u001B[39;00m\u001B[34;01mmetrics\u001B[39;00m\u001B[38;5;250m \u001B[39m\u001B[38;5;28;01mimport\u001B[39;00m accuracy_score, f1_score, precision_score, recall_score\n",
      "\u001B[36mFile \u001B[39m\u001B[32m~\\OneDrive\\Desktop\\UPM\\biomedical informatics\\Assignement 1- Retrieval Information\\Binary-Classifier-for-Nutritional-IR\\venv\\Lib\\site-packages\\datasets\\__init__.py:17\u001B[39m\n\u001B[32m      1\u001B[39m \u001B[38;5;66;03m# Copyright 2020 The HuggingFace Datasets Authors and the TensorFlow Datasets Authors.\u001B[39;00m\n\u001B[32m      2\u001B[39m \u001B[38;5;66;03m#\u001B[39;00m\n\u001B[32m      3\u001B[39m \u001B[38;5;66;03m# Licensed under the Apache License, Version 2.0 (the \"License\");\u001B[39;00m\n\u001B[32m   (...)\u001B[39m\u001B[32m     12\u001B[39m \u001B[38;5;66;03m# See the License for the specific language governing permissions and\u001B[39;00m\n\u001B[32m     13\u001B[39m \u001B[38;5;66;03m# limitations under the License.\u001B[39;00m\n\u001B[32m     15\u001B[39m __version__ = \u001B[33m\"\u001B[39m\u001B[33m4.3.0\u001B[39m\u001B[33m\"\u001B[39m\n\u001B[32m---> \u001B[39m\u001B[32m17\u001B[39m \u001B[38;5;28;01mfrom\u001B[39;00m\u001B[38;5;250m \u001B[39m\u001B[34;01m.\u001B[39;00m\u001B[34;01marrow_dataset\u001B[39;00m\u001B[38;5;250m \u001B[39m\u001B[38;5;28;01mimport\u001B[39;00m Column, Dataset\n\u001B[32m     18\u001B[39m \u001B[38;5;28;01mfrom\u001B[39;00m\u001B[38;5;250m \u001B[39m\u001B[34;01m.\u001B[39;00m\u001B[34;01marrow_reader\u001B[39;00m\u001B[38;5;250m \u001B[39m\u001B[38;5;28;01mimport\u001B[39;00m ReadInstruction\n\u001B[32m     19\u001B[39m \u001B[38;5;28;01mfrom\u001B[39;00m\u001B[38;5;250m \u001B[39m\u001B[34;01m.\u001B[39;00m\u001B[34;01mbuilder\u001B[39;00m\u001B[38;5;250m \u001B[39m\u001B[38;5;28;01mimport\u001B[39;00m ArrowBasedBuilder, BuilderConfig, DatasetBuilder, GeneratorBasedBuilder\n",
      "\u001B[36mFile \u001B[39m\u001B[32m~\\OneDrive\\Desktop\\UPM\\biomedical informatics\\Assignement 1- Retrieval Information\\Binary-Classifier-for-Nutritional-IR\\venv\\Lib\\site-packages\\datasets\\arrow_dataset.py:104\u001B[39m\n\u001B[32m     91\u001B[39m \u001B[38;5;28;01mfrom\u001B[39;00m\u001B[38;5;250m \u001B[39m\u001B[34;01m.\u001B[39;00m\u001B[34;01mfilesystems\u001B[39;00m\u001B[38;5;250m \u001B[39m\u001B[38;5;28;01mimport\u001B[39;00m is_remote_filesystem\n\u001B[32m     92\u001B[39m \u001B[38;5;28;01mfrom\u001B[39;00m\u001B[38;5;250m \u001B[39m\u001B[34;01m.\u001B[39;00m\u001B[34;01mfingerprint\u001B[39;00m\u001B[38;5;250m \u001B[39m\u001B[38;5;28;01mimport\u001B[39;00m (\n\u001B[32m     93\u001B[39m     fingerprint_transform,\n\u001B[32m     94\u001B[39m     format_kwargs_for_fingerprint,\n\u001B[32m   (...)\u001B[39m\u001B[32m    102\u001B[39m     validate_fingerprint,\n\u001B[32m    103\u001B[39m )\n\u001B[32m--> \u001B[39m\u001B[32m104\u001B[39m \u001B[38;5;28;01mfrom\u001B[39;00m\u001B[38;5;250m \u001B[39m\u001B[34;01m.\u001B[39;00m\u001B[34;01mformatting\u001B[39;00m\u001B[38;5;250m \u001B[39m\u001B[38;5;28;01mimport\u001B[39;00m format_table, get_format_type_from_alias, get_formatter, query_table\n\u001B[32m    105\u001B[39m \u001B[38;5;28;01mfrom\u001B[39;00m\u001B[38;5;250m \u001B[39m\u001B[34;01m.\u001B[39;00m\u001B[34;01mformatting\u001B[39;00m\u001B[34;01m.\u001B[39;00m\u001B[34;01mformatting\u001B[39;00m\u001B[38;5;250m \u001B[39m\u001B[38;5;28;01mimport\u001B[39;00m LazyDict, _is_range_contiguous\n\u001B[32m    106\u001B[39m \u001B[38;5;28;01mfrom\u001B[39;00m\u001B[38;5;250m \u001B[39m\u001B[34;01m.\u001B[39;00m\u001B[34;01minfo\u001B[39;00m\u001B[38;5;250m \u001B[39m\u001B[38;5;28;01mimport\u001B[39;00m DatasetInfo, DatasetInfosDict\n",
      "\u001B[36mFile \u001B[39m\u001B[32m~\\OneDrive\\Desktop\\UPM\\biomedical informatics\\Assignement 1- Retrieval Information\\Binary-Classifier-for-Nutritional-IR\\venv\\Lib\\site-packages\\datasets\\formatting\\__init__.py:91\u001B[39m\n\u001B[32m     88\u001B[39m     _register_unavailable_formatter(_polars_error, \u001B[33m\"\u001B[39m\u001B[33mpolars\u001B[39m\u001B[33m\"\u001B[39m, aliases=[\u001B[33m\"\u001B[39m\u001B[33mpl\u001B[39m\u001B[33m\"\u001B[39m])\n\u001B[32m     90\u001B[39m \u001B[38;5;28;01mif\u001B[39;00m config.TORCH_AVAILABLE:\n\u001B[32m---> \u001B[39m\u001B[32m91\u001B[39m     \u001B[38;5;28;01mfrom\u001B[39;00m\u001B[38;5;250m \u001B[39m\u001B[34;01m.\u001B[39;00m\u001B[34;01mtorch_formatter\u001B[39;00m\u001B[38;5;250m \u001B[39m\u001B[38;5;28;01mimport\u001B[39;00m TorchFormatter\n\u001B[32m     93\u001B[39m     _register_formatter(TorchFormatter, \u001B[33m\"\u001B[39m\u001B[33mtorch\u001B[39m\u001B[33m\"\u001B[39m, aliases=[\u001B[33m\"\u001B[39m\u001B[33mpt\u001B[39m\u001B[33m\"\u001B[39m, \u001B[33m\"\u001B[39m\u001B[33mpytorch\u001B[39m\u001B[33m\"\u001B[39m])\n\u001B[32m     94\u001B[39m \u001B[38;5;28;01melse\u001B[39;00m:\n",
      "\u001B[36mFile \u001B[39m\u001B[32m~\\OneDrive\\Desktop\\UPM\\biomedical informatics\\Assignement 1- Retrieval Information\\Binary-Classifier-for-Nutritional-IR\\venv\\Lib\\site-packages\\datasets\\formatting\\torch_formatter.py:32\u001B[39m\n\u001B[32m     30\u001B[39m \u001B[38;5;66;03m# Import torch once at module level once\u001B[39;00m\n\u001B[32m     31\u001B[39m \u001B[38;5;28;01mtry\u001B[39;00m:\n\u001B[32m---> \u001B[39m\u001B[32m32\u001B[39m     \u001B[38;5;28;01mimport\u001B[39;00m\u001B[38;5;250m \u001B[39m\u001B[34;01mtorch\u001B[39;00m\n\u001B[32m     34\u001B[39m     _torch_available = \u001B[38;5;28;01mTrue\u001B[39;00m\n\u001B[32m     35\u001B[39m \u001B[38;5;28;01mexcept\u001B[39;00m \u001B[38;5;167;01mImportError\u001B[39;00m:\n",
      "\u001B[36mFile \u001B[39m\u001B[32m~\\OneDrive\\Desktop\\UPM\\biomedical informatics\\Assignement 1- Retrieval Information\\Binary-Classifier-for-Nutritional-IR\\venv\\Lib\\site-packages\\torch\\__init__.py:281\u001B[39m\n\u001B[32m    277\u001B[39m                     \u001B[38;5;28;01mraise\u001B[39;00m err\n\u001B[32m    279\u001B[39m         kernel32.SetErrorMode(prev_error_mode)\n\u001B[32m--> \u001B[39m\u001B[32m281\u001B[39m     \u001B[43m_load_dll_libraries\u001B[49m\u001B[43m(\u001B[49m\u001B[43m)\u001B[49m\n\u001B[32m    282\u001B[39m     \u001B[38;5;28;01mdel\u001B[39;00m _load_dll_libraries\n\u001B[32m    285\u001B[39m \u001B[38;5;28;01mdef\u001B[39;00m\u001B[38;5;250m \u001B[39m\u001B[34m_get_cuda_dep_paths\u001B[39m(path: \u001B[38;5;28mstr\u001B[39m, lib_folder: \u001B[38;5;28mstr\u001B[39m, lib_name: \u001B[38;5;28mstr\u001B[39m) -> \u001B[38;5;28mlist\u001B[39m[\u001B[38;5;28mstr\u001B[39m]:\n\u001B[32m    286\u001B[39m     \u001B[38;5;66;03m# Libraries can either be in\u001B[39;00m\n\u001B[32m    287\u001B[39m     \u001B[38;5;66;03m# path/nvidia/lib_folder/lib or\u001B[39;00m\n\u001B[32m    288\u001B[39m     \u001B[38;5;66;03m# path/nvidia/cuXX/lib (since CUDA 13.0) or\u001B[39;00m\n\u001B[32m    289\u001B[39m     \u001B[38;5;66;03m# path/lib_folder/lib\u001B[39;00m\n",
      "\u001B[36mFile \u001B[39m\u001B[32m~\\OneDrive\\Desktop\\UPM\\biomedical informatics\\Assignement 1- Retrieval Information\\Binary-Classifier-for-Nutritional-IR\\venv\\Lib\\site-packages\\torch\\__init__.py:264\u001B[39m, in \u001B[36m_load_dll_libraries\u001B[39m\u001B[34m()\u001B[39m\n\u001B[32m    260\u001B[39m     err = ctypes.WinError(last_error)\n\u001B[32m    261\u001B[39m     err.strerror += (\n\u001B[32m    262\u001B[39m         \u001B[33mf\u001B[39m\u001B[33m'\u001B[39m\u001B[33m Error loading \u001B[39m\u001B[33m\"\u001B[39m\u001B[38;5;132;01m{\u001B[39;00mdll\u001B[38;5;132;01m}\u001B[39;00m\u001B[33m\"\u001B[39m\u001B[33m or one of its dependencies.\u001B[39m\u001B[33m'\u001B[39m\n\u001B[32m    263\u001B[39m     )\n\u001B[32m--> \u001B[39m\u001B[32m264\u001B[39m     \u001B[38;5;28;01mraise\u001B[39;00m err\n\u001B[32m    265\u001B[39m \u001B[38;5;28;01melif\u001B[39;00m res \u001B[38;5;129;01mis\u001B[39;00m \u001B[38;5;129;01mnot\u001B[39;00m \u001B[38;5;28;01mNone\u001B[39;00m:\n\u001B[32m    266\u001B[39m     is_loaded = \u001B[38;5;28;01mTrue\u001B[39;00m\n",
      "\u001B[31mOSError\u001B[39m: [WinError 1114] Routine di inizializzazione della libreria di collegamento dinamico (DLL) non riuscita. Error loading \"C:\\Users\\alexf\\OneDrive\\Desktop\\UPM\\biomedical informatics\\Assignement 1- Retrieval Information\\Binary-Classifier-for-Nutritional-IR\\venv\\Lib\\site-packages\\torch\\lib\\c10.dll\" or one of its dependencies."
     ]
    }
   ],
   "execution_count": 2
  },
  {
   "cell_type": "code",
   "source": [
    "# Controlla se è disponibile una GPU (MOLTO raccomandato)\n",
    "device = torch.device(\"cuda\" if torch.cuda.is_available() else \"cpu\")\n",
    "print(f\"Utilizzo del dispositivo: {device}\")"
   ],
   "metadata": {
    "colab": {
     "base_uri": "https://localhost:8080/"
    },
    "id": "DYX2TdW-UMhB",
    "outputId": "838ebf67-5bef-4c52-8246-47321a7195f9"
   },
   "execution_count": 3,
   "outputs": [
    {
     "output_type": "stream",
     "name": "stdout",
     "text": [
      "Utilizzo del dispositivo: cuda\n"
     ]
    }
   ]
  },
  {
   "cell_type": "code",
   "source": [
    "# --- 1. CARICARE I SET DI DATI ---\n",
    "try:\n",
    "    train_df = pd.read_csv(\"train_set.csv\")\n",
    "    val_df = pd.read_csv(\"validation_set.csv\")\n",
    "    test_df = pd.read_csv(\"test_set.csv\")\n",
    "except FileNotFoundError:\n",
    "    print(\"ERRORE: File di set non trovati.\")\n",
    "    print(\"Esegui prima 'split_data.py'.\")\n",
    "    exit()\n",
    "\n",
    "# Converti i DataFrame di Pandas in 'Dataset' di Hugging Face\n",
    "ds = DatasetDict({\n",
    "    'train': Dataset.from_pandas(train_df),\n",
    "    'validation': Dataset.from_pandas(val_df),\n",
    "    'test': Dataset.from_pandas(test_df)\n",
    "})\n",
    "\n",
    "print(f\"Dataset caricati:\\n{ds}\")"
   ],
   "metadata": {
    "colab": {
     "base_uri": "https://localhost:8080/"
    },
    "id": "jC8bW7sVUShU",
    "outputId": "95bed308-76b0-47c1-a22a-962e620e346e"
   },
   "execution_count": 4,
   "outputs": [
    {
     "output_type": "stream",
     "name": "stdout",
     "text": [
      "Dataset caricati:\n",
      "DatasetDict({\n",
      "    train: Dataset({\n",
      "        features: ['text', 'label'],\n",
      "        num_rows: 916\n",
      "    })\n",
      "    validation: Dataset({\n",
      "        features: ['text', 'label'],\n",
      "        num_rows: 197\n",
      "    })\n",
      "    test: Dataset({\n",
      "        features: ['text', 'label'],\n",
      "        num_rows: 197\n",
      "    })\n",
      "})\n"
     ]
    }
   ]
  },
  {
   "cell_type": "code",
   "source": [
    "# --- 2. CARICARE TOKENIZER E MODELLO ---\n",
    "MODEL_NAME = \"microsoft/BiomedNLP-PubMedBERT-base-uncased-abstract\"\n",
    "\n",
    "# Carica il Tokenizer\n",
    "tokenizer = AutoTokenizer.from_pretrained(MODEL_NAME)\n",
    "\n",
    "# Carica il Modello\n",
    "# num_labels=2 (classe 0 e classe 1)\n",
    "model = AutoModelForSequenceClassification.from_pretrained(MODEL_NAME, num_labels=2)\n",
    "model.to(device)  # Sposta il modello sulla GPU se disponibile"
   ],
   "metadata": {
    "colab": {
     "base_uri": "https://localhost:8080/"
    },
    "id": "ThKCSa_oUfcX",
    "outputId": "cbbb4360-4817-463d-fc7c-592cb65cfd1d"
   },
   "execution_count": 27,
   "outputs": [
    {
     "output_type": "stream",
     "name": "stderr",
     "text": [
      "Some weights of BertForSequenceClassification were not initialized from the model checkpoint at microsoft/BiomedNLP-PubMedBERT-base-uncased-abstract and are newly initialized: ['classifier.bias', 'classifier.weight']\n",
      "You should probably TRAIN this model on a down-stream task to be able to use it for predictions and inference.\n"
     ]
    },
    {
     "output_type": "execute_result",
     "data": {
      "text/plain": [
       "BertForSequenceClassification(\n",
       "  (bert): BertModel(\n",
       "    (embeddings): BertEmbeddings(\n",
       "      (word_embeddings): Embedding(30522, 768, padding_idx=0)\n",
       "      (position_embeddings): Embedding(512, 768)\n",
       "      (token_type_embeddings): Embedding(2, 768)\n",
       "      (LayerNorm): LayerNorm((768,), eps=1e-12, elementwise_affine=True)\n",
       "      (dropout): Dropout(p=0.1, inplace=False)\n",
       "    )\n",
       "    (encoder): BertEncoder(\n",
       "      (layer): ModuleList(\n",
       "        (0-11): 12 x BertLayer(\n",
       "          (attention): BertAttention(\n",
       "            (self): BertSdpaSelfAttention(\n",
       "              (query): Linear(in_features=768, out_features=768, bias=True)\n",
       "              (key): Linear(in_features=768, out_features=768, bias=True)\n",
       "              (value): Linear(in_features=768, out_features=768, bias=True)\n",
       "              (dropout): Dropout(p=0.1, inplace=False)\n",
       "            )\n",
       "            (output): BertSelfOutput(\n",
       "              (dense): Linear(in_features=768, out_features=768, bias=True)\n",
       "              (LayerNorm): LayerNorm((768,), eps=1e-12, elementwise_affine=True)\n",
       "              (dropout): Dropout(p=0.1, inplace=False)\n",
       "            )\n",
       "          )\n",
       "          (intermediate): BertIntermediate(\n",
       "            (dense): Linear(in_features=768, out_features=3072, bias=True)\n",
       "            (intermediate_act_fn): GELUActivation()\n",
       "          )\n",
       "          (output): BertOutput(\n",
       "            (dense): Linear(in_features=3072, out_features=768, bias=True)\n",
       "            (LayerNorm): LayerNorm((768,), eps=1e-12, elementwise_affine=True)\n",
       "            (dropout): Dropout(p=0.1, inplace=False)\n",
       "          )\n",
       "        )\n",
       "      )\n",
       "    )\n",
       "    (pooler): BertPooler(\n",
       "      (dense): Linear(in_features=768, out_features=768, bias=True)\n",
       "      (activation): Tanh()\n",
       "    )\n",
       "  )\n",
       "  (dropout): Dropout(p=0.1, inplace=False)\n",
       "  (classifier): Linear(in_features=768, out_features=2, bias=True)\n",
       ")"
      ]
     },
     "metadata": {},
     "execution_count": 27
    }
   ]
  },
  {
   "cell_type": "code",
   "source": [
    "# --- 3. TOKENIZZARE I DATI ---\n",
    "def tokenize_function(examples):\n",
    "    # 'truncation=True' taglia i testi più lunghi di 512 token\n",
    "    # 'padding=\"max_length\"' aggiunge token finti fino a 512\n",
    "    return tokenizer(examples['text'], padding=\"max_length\", truncation=True, max_length=512)\n",
    "\n",
    "\n",
    "# Applica la tokenizzazione a tutti i set in parallelo\n",
    "tokenized_datasets = ds.map(tokenize_function, batched=True)\n",
    "\n",
    "# Rimuovi la colonna 'text' (non più necessaria) e formatta per il training\n",
    "tokenized_datasets = tokenized_datasets.remove_columns([\"text\"])\n",
    "tokenized_datasets.set_format(\"torch\")\n",
    "\n"
   ],
   "metadata": {
    "colab": {
     "base_uri": "https://localhost:8080/",
     "height": 113,
     "referenced_widgets": [
      "57fa45cfae4f4dc5b2f8de2ad02d5f29",
      "44bf86bc0c4846abbd588178888d31e0",
      "a85fc1cb4e54499f9ccf1116a4cf2d5e",
      "a3a486dc9248497a84a2cc02bad361ef",
      "136680ee3d264d6eb265ae6a8575b5dc",
      "3efc3646f62e4291a6e0f7de405ab618",
      "87ea26b42f4b473d8c8b89cf93a3d582",
      "5472120f02b543628bb264f24059d777",
      "bcd4794e0c0a46b2b06b92bc0fdd370b",
      "a1bb672aa71a41a4b03326f60294ca06",
      "933c21e5ee9e4d3d9c5f8e7435ea99ce",
      "bb0a2cc7ea2f47a6b387f73452b99de4",
      "8c5fb63294f447148771320150154d08",
      "95f3b80b99a84aaab00ac9f081c2e956",
      "45c9ea131c5548ee86a9ecece7a6c908",
      "4460ad9658934a21a43d23202b9f429a",
      "6dad2e556bec495faaf19cea4ced7666",
      "3f7eb8b263434848920a80bf83dd7d5a",
      "a5d7a7a35186481385500ada6ca86ff6",
      "32f7b27dade64dae918ba2de999932a6",
      "bbe88ce328e74dffa61e6afa8e1ce412",
      "6d16a0b16e784526add09b77c6a0e73a",
      "89df87fd53024a3c986d4cf9fd4c3f9e",
      "c7b4892f1f724a0796ed8a8fffa83bf6",
      "cb2e64d813cd4eeb8bc1e90e98e4427f",
      "b084ffd027d940118ccdb7843be6ceff",
      "d246d41c047243fea14a2eaa91305f3e",
      "5ef82643bef440baa6ffc5c06df49ce1",
      "ddca4d1289e44034abf22c4b0d40ff34",
      "2e867f1e42ba4560b184e07580204a2b",
      "df6a3e17d21841c382ddcec53a7637db",
      "bd80dc51ae444000b7a78c20957d3ad6",
      "2d8892404f0548419dfae1fd05c80244"
     ]
    },
    "id": "4AGHwis0Uh7Y",
    "outputId": "8f0db92e-5773-4ea0-df1f-88975cd9eafe"
   },
   "execution_count": 28,
   "outputs": [
    {
     "output_type": "display_data",
     "data": {
      "text/plain": [
       "Map:   0%|          | 0/916 [00:00<?, ? examples/s]"
      ],
      "application/vnd.jupyter.widget-view+json": {
       "version_major": 2,
       "version_minor": 0,
       "model_id": "57fa45cfae4f4dc5b2f8de2ad02d5f29"
      }
     },
     "metadata": {}
    },
    {
     "output_type": "display_data",
     "data": {
      "text/plain": [
       "Map:   0%|          | 0/197 [00:00<?, ? examples/s]"
      ],
      "application/vnd.jupyter.widget-view+json": {
       "version_major": 2,
       "version_minor": 0,
       "model_id": "bb0a2cc7ea2f47a6b387f73452b99de4"
      }
     },
     "metadata": {}
    },
    {
     "output_type": "display_data",
     "data": {
      "text/plain": [
       "Map:   0%|          | 0/197 [00:00<?, ? examples/s]"
      ],
      "application/vnd.jupyter.widget-view+json": {
       "version_major": 2,
       "version_minor": 0,
       "model_id": "89df87fd53024a3c986d4cf9fd4c3f9e"
      }
     },
     "metadata": {}
    }
   ]
  },
  {
   "cell_type": "code",
   "source": [
    "\n",
    "# --- 4. DEFINIRE LE METRICHE DI VALUTAZIONE ---\n",
    "def compute_metrics(eval_pred):\n",
    "    logits, labels = eval_pred\n",
    "    predictions = np.argmax(logits, axis=-1)\n",
    "\n",
    "    acc = accuracy_score(labels, predictions)\n",
    "    f1 = f1_score(labels, predictions, average='binary')\n",
    "    precision = precision_score(labels, predictions, average='binary')\n",
    "    recall = recall_score(labels, predictions, average='binary')\n",
    "\n",
    "    return {\n",
    "        'accuracy': acc,\n",
    "        'f1': f1,\n",
    "        'precision': precision,\n",
    "        'recall': recall\n",
    "    }"
   ],
   "metadata": {
    "id": "TlFSE_HAUkhi"
   },
   "execution_count": 29,
   "outputs": []
  },
  {
   "cell_type": "code",
   "source": [
    "# --- 5. DEFINIRE GLI ARGOMENTI DI TRAINING ---\n",
    "training_args = TrainingArguments(\n",
    "    output_dir=\"./polyphenol_classifier\",  # Cartella dove salvare il modello\n",
    "    eval_strategy=\"epoch\",  # Valuta alla fine di ogni epoca\n",
    "    save_strategy=\"epoch\",  # Salva il modello alla fine di ogni epoca\n",
    "    num_train_epochs=6,  # 3 epoche sono un buon punto di partenza\n",
    "    per_device_train_batch_size=8,\n",
    "    per_device_eval_batch_size=8,\n",
    "    learning_rate=2e-5,\n",
    "    warmup_steps=500,\n",
    "    weight_decay=0.01,\n",
    "    logging_dir='./logs',\n",
    "    logging_steps=10,\n",
    "    load_best_model_at_end=True,  # Carica il modello migliore alla fine\n",
    "    metric_for_best_model=\"f1\",  # Scegli il modello migliore in base all'F1-score\n",
    "    report_to=\"none\"  # Disabilita il logging online (wandb)\n",
    ")"
   ],
   "metadata": {
    "id": "EcbRdY6rUnOQ"
   },
   "execution_count": 30,
   "outputs": []
  },
  {
   "cell_type": "code",
   "source": [
    "# --- 6. CREARE IL TRAINER ---\n",
    "trainer = Trainer(\n",
    "    model=model,\n",
    "    args=training_args,\n",
    "    train_dataset=tokenized_datasets[\"train\"],\n",
    "    eval_dataset=tokenized_datasets[\"validation\"],\n",
    "    compute_metrics=compute_metrics,\n",
    "    tokenizer=tokenizer,\n",
    ")"
   ],
   "metadata": {
    "colab": {
     "base_uri": "https://localhost:8080/"
    },
    "id": "fN-KzkrZUpkt",
    "outputId": "138c0c74-f47e-487a-96a9-5ef41be6606a"
   },
   "execution_count": 31,
   "outputs": [
    {
     "output_type": "stream",
     "name": "stderr",
     "text": [
      "/tmp/ipython-input-4008114967.py:2: FutureWarning: `tokenizer` is deprecated and will be removed in version 5.0.0 for `Trainer.__init__`. Use `processing_class` instead.\n",
      "  trainer = Trainer(\n"
     ]
    }
   ]
  },
  {
   "cell_type": "code",
   "source": [
    "# --- 7. AVVIARE IL TRAINING (FINE-TUNING) ---\n",
    "print(\"\\n--- INIZIO FINE-TUNING MODELLO ---\")\n",
    "trainer.train()\n",
    "print(\"--- FINE-TUNING COMPLETATO ---\")"
   ],
   "metadata": {
    "colab": {
     "base_uri": "https://localhost:8080/",
     "height": 315
    },
    "id": "4Atb10iyUuW-",
    "outputId": "e21d2d67-8f61-4241-9a2c-06ab361fae8c"
   },
   "execution_count": 32,
   "outputs": [
    {
     "output_type": "stream",
     "name": "stdout",
     "text": [
      "\n",
      "--- INIZIO FINE-TUNING MODELLO ---\n"
     ]
    },
    {
     "output_type": "display_data",
     "data": {
      "text/plain": [
       "<IPython.core.display.HTML object>"
      ],
      "text/html": [
       "\n",
       "    <div>\n",
       "      \n",
       "      <progress value='690' max='690' style='width:300px; height:20px; vertical-align: middle;'></progress>\n",
       "      [690/690 12:22, Epoch 6/6]\n",
       "    </div>\n",
       "    <table border=\"1\" class=\"dataframe\">\n",
       "  <thead>\n",
       " <tr style=\"text-align: left;\">\n",
       "      <th>Epoch</th>\n",
       "      <th>Training Loss</th>\n",
       "      <th>Validation Loss</th>\n",
       "      <th>Accuracy</th>\n",
       "      <th>F1</th>\n",
       "      <th>Precision</th>\n",
       "      <th>Recall</th>\n",
       "    </tr>\n",
       "  </thead>\n",
       "  <tbody>\n",
       "    <tr>\n",
       "      <td>1</td>\n",
       "      <td>0.509900</td>\n",
       "      <td>0.526546</td>\n",
       "      <td>0.746193</td>\n",
       "      <td>0.795082</td>\n",
       "      <td>0.668966</td>\n",
       "      <td>0.979798</td>\n",
       "    </tr>\n",
       "    <tr>\n",
       "      <td>2</td>\n",
       "      <td>0.478500</td>\n",
       "      <td>0.501450</td>\n",
       "      <td>0.751269</td>\n",
       "      <td>0.801619</td>\n",
       "      <td>0.668919</td>\n",
       "      <td>1.000000</td>\n",
       "    </tr>\n",
       "    <tr>\n",
       "      <td>3</td>\n",
       "      <td>0.482700</td>\n",
       "      <td>0.496666</td>\n",
       "      <td>0.751269</td>\n",
       "      <td>0.801619</td>\n",
       "      <td>0.668919</td>\n",
       "      <td>1.000000</td>\n",
       "    </tr>\n",
       "    <tr>\n",
       "      <td>4</td>\n",
       "      <td>0.537300</td>\n",
       "      <td>0.511827</td>\n",
       "      <td>0.751269</td>\n",
       "      <td>0.801619</td>\n",
       "      <td>0.668919</td>\n",
       "      <td>1.000000</td>\n",
       "    </tr>\n",
       "    <tr>\n",
       "      <td>5</td>\n",
       "      <td>0.482800</td>\n",
       "      <td>0.507756</td>\n",
       "      <td>0.751269</td>\n",
       "      <td>0.801619</td>\n",
       "      <td>0.668919</td>\n",
       "      <td>1.000000</td>\n",
       "    </tr>\n",
       "    <tr>\n",
       "      <td>6</td>\n",
       "      <td>0.400700</td>\n",
       "      <td>0.574882</td>\n",
       "      <td>0.700508</td>\n",
       "      <td>0.751055</td>\n",
       "      <td>0.644928</td>\n",
       "      <td>0.898990</td>\n",
       "    </tr>\n",
       "  </tbody>\n",
       "</table><p>"
      ]
     },
     "metadata": {}
    },
    {
     "output_type": "stream",
     "name": "stdout",
     "text": [
      "--- FINE-TUNING COMPLETATO ---\n"
     ]
    }
   ]
  },
  {
   "cell_type": "code",
   "source": [
    "# --- 8. VALUTAZIONE FINALE SUL TEST SET ---\n",
    "print(\"\\n--- VALUTAZIONE SUL TEST SET (DATI MAI VISTI) ---\")\n",
    "test_results = trainer.evaluate(eval_dataset=tokenized_datasets[\"test\"])\n",
    "\n",
    "print(f\"Accuracy sul Test Set: {test_results['eval_accuracy']:.4f}\")\n",
    "print(f\"F1-score sul Test Set: {test_results['eval_f1']:.4f}\")\n",
    "print(f\"Precision sul Test Set: {test_results['eval_precision']:.4f}\")\n",
    "print(f\"Recall sul Test Set: {test_results['eval_recall']:.4f}\")"
   ],
   "metadata": {
    "colab": {
     "base_uri": "https://localhost:8080/",
     "height": 141
    },
    "id": "Sxm1sKPBUxKj",
    "outputId": "ba50acf1-e997-40e0-a396-a5cc75c5b9ca"
   },
   "execution_count": 33,
   "outputs": [
    {
     "output_type": "stream",
     "name": "stdout",
     "text": [
      "\n",
      "--- VALUTAZIONE SUL TEST SET (DATI MAI VISTI) ---\n"
     ]
    },
    {
     "output_type": "display_data",
     "data": {
      "text/plain": [
       "<IPython.core.display.HTML object>"
      ],
      "text/html": [
       "\n",
       "    <div>\n",
       "      \n",
       "      <progress value='25' max='25' style='width:300px; height:20px; vertical-align: middle;'></progress>\n",
       "      [25/25 00:05]\n",
       "    </div>\n",
       "    "
      ]
     },
     "metadata": {}
    },
    {
     "output_type": "stream",
     "name": "stdout",
     "text": [
      "Accuracy sul Test Set: 0.7259\n",
      "F1-score sul Test Set: 0.7823\n",
      "Precision sul Test Set: 0.6467\n",
      "Recall sul Test Set: 0.9898\n"
     ]
    }
   ]
  },
  {
   "cell_type": "code",
   "source": [
    "\n",
    "# Salva i risultati finali su un file\n",
    "with open(\"test_results.txt\", \"w\") as f:\n",
    "    f.write(str(test_results))\n",
    "\n",
    "# Salva il modello finale\n",
    "trainer.save_model(\"./polyphenol_classifier_final\")\n",
    "print(\"Modello finale salvato in './polyphenol_classifier_final'\")"
   ],
   "metadata": {
    "colab": {
     "base_uri": "https://localhost:8080/"
    },
    "id": "KgyHuAo4U2zv",
    "outputId": "4c01d111-5ac4-437d-b9e3-6ce33d8940e6"
   },
   "execution_count": 34,
   "outputs": [
    {
     "output_type": "stream",
     "name": "stdout",
     "text": [
      "Modello finale salvato in './polyphenol_classifier_final'\n"
     ]
    }
   ]
  },
  {
   "cell_type": "code",
   "source": [
    "!zip -r modello_finito.zip ./polyphenol_classifier_final"
   ],
   "metadata": {
    "colab": {
     "base_uri": "https://localhost:8080/"
    },
    "id": "kJe6r5m9r9va",
    "outputId": "e7393b2b-867a-4a68-a7f6-066493b89c8e"
   },
   "execution_count": 35,
   "outputs": [
    {
     "output_type": "stream",
     "name": "stdout",
     "text": [
      "  adding: polyphenol_classifier_final/ (stored 0%)\n",
      "  adding: polyphenol_classifier_final/training_args.bin (deflated 53%)\n",
      "  adding: polyphenol_classifier_final/tokenizer_config.json (deflated 74%)\n",
      "  adding: polyphenol_classifier_final/model.safetensors (deflated 7%)\n",
      "  adding: polyphenol_classifier_final/vocab.txt (deflated 54%)\n",
      "  adding: polyphenol_classifier_final/tokenizer.json (deflated 71%)\n",
      "  adding: polyphenol_classifier_final/special_tokens_map.json (deflated 42%)\n",
      "  adding: polyphenol_classifier_final/config.json (deflated 49%)\n"
     ]
    }
   ]
  }
 ]
}
